{
 "cells": [
  {
   "cell_type": "markdown",
   "id": "9d308ffa",
   "metadata": {},
   "source": [
    "### <font color='289C4E'>Table of contents<font><a class='anchor' id='top'></a>\n",
    "- [Importing libraries](#1)\n",
    "- [Data Wrangle](#2)\n",
    "- [Answering Questions](#3)"
   ]
  },
  {
   "cell_type": "markdown",
   "id": "beafac96",
   "metadata": {},
   "source": [
    "# Styling headlines"
   ]
  },
  {
   "cell_type": "code",
   "execution_count": 83,
   "id": "f3191075",
   "metadata": {},
   "outputs": [
    {
     "data": {
      "text/html": [
       "<style>\n",
       "h1 {\n",
       "  color: black ;\n",
       "  background-color: lightpink;\n",
       "  text-align: center;\n",
       "  border: 1px solid black;\n",
       "  transition: color 1s ease-in-out;\n",
       "  transition: background-color 1s ease-in-out;  \n",
       "}\n",
       "\n",
       "h1:hover {\n",
       "  color: cyan   ;\n",
       "  background-color: black ;\n",
       "}\n",
       "h2 {\n",
       "    color: Crimson;\n",
       "    border: 1px solid black;\n",
       "    background-color: PaleTurquoise;\n",
       "    text-align: center;\n",
       "    transition: background-color 1s ease-in-out;\n",
       "}\n",
       "h2:hover {\n",
       "  background-color: LightGreen   ;\n",
       "</style>\n"
      ],
      "text/plain": [
       "<IPython.core.display.HTML object>"
      ]
     },
     "metadata": {},
     "output_type": "display_data"
    }
   ],
   "source": [
    "%%html\n",
    "<style>\n",
    "h1 {\n",
    "  color: black ;\n",
    "  background-color: lightpink;\n",
    "  text-align: center;\n",
    "  border: 1px solid black;\n",
    "  transition: color 1s ease-in-out;\n",
    "  transition: background-color 1s ease-in-out;  \n",
    "}\n",
    "\n",
    "h1:hover {\n",
    "  color: cyan   ;\n",
    "  background-color: black ;\n",
    "}\n",
    "h2 {\n",
    "    color: Crimson;\n",
    "    border: 1px solid black;\n",
    "    background-color: PaleTurquoise;\n",
    "    text-align: center;\n",
    "    transition: background-color 1s ease-in-out;\n",
    "}\n",
    "h2:hover {\n",
    "  background-color: LightGreen   ;\n",
    "</style>"
   ]
  },
  {
   "cell_type": "markdown",
   "id": "6cf4c2cc",
   "metadata": {},
   "source": [
    "<h1>Importing Libraries </h1>"
   ]
  },
  {
   "cell_type": "code",
   "execution_count": 73,
   "id": "6d358456",
   "metadata": {},
   "outputs": [],
   "source": [
    "# Importing libraries \n",
    "import pandas as pd\n",
    "import numpy as np\n",
    "import matplotlib.pyplot as plt\n",
    "import seaborn as sns;"
   ]
  },
  {
   "cell_type": "markdown",
   "id": "aeb7885d",
   "metadata": {},
   "source": [
    "## loading and exploring the data"
   ]
  },
  {
   "cell_type": "code",
   "execution_count": 2,
   "id": "daa294ff",
   "metadata": {},
   "outputs": [],
   "source": [
    "df = pd.read_csv(\"sales_data.csv\")"
   ]
  },
  {
   "cell_type": "code",
   "execution_count": 3,
   "id": "87dc6a0b",
   "metadata": {},
   "outputs": [
    {
     "data": {
      "text/html": [
       "<div>\n",
       "<style scoped>\n",
       "    .dataframe tbody tr th:only-of-type {\n",
       "        vertical-align: middle;\n",
       "    }\n",
       "\n",
       "    .dataframe tbody tr th {\n",
       "        vertical-align: top;\n",
       "    }\n",
       "\n",
       "    .dataframe thead th {\n",
       "        text-align: right;\n",
       "    }\n",
       "</style>\n",
       "<table border=\"1\" class=\"dataframe\">\n",
       "  <thead>\n",
       "    <tr style=\"text-align: right;\">\n",
       "      <th></th>\n",
       "      <th>date</th>\n",
       "      <th>product</th>\n",
       "      <th>category</th>\n",
       "      <th>price</th>\n",
       "      <th>quantity</th>\n",
       "      <th>revenue</th>\n",
       "    </tr>\n",
       "  </thead>\n",
       "  <tbody>\n",
       "    <tr>\n",
       "      <th>0</th>\n",
       "      <td>2022-01-01</td>\n",
       "      <td>Smartphone</td>\n",
       "      <td>Electronics</td>\n",
       "      <td>600.0</td>\n",
       "      <td>10.0</td>\n",
       "      <td>6000.0</td>\n",
       "    </tr>\n",
       "    <tr>\n",
       "      <th>1</th>\n",
       "      <td>2022-01-01</td>\n",
       "      <td>Laptop</td>\n",
       "      <td>Electronics</td>\n",
       "      <td>1200.0</td>\n",
       "      <td>5.0</td>\n",
       "      <td>6000.0</td>\n",
       "    </tr>\n",
       "    <tr>\n",
       "      <th>2</th>\n",
       "      <td>2022-01-02</td>\n",
       "      <td>T-Shirt</td>\n",
       "      <td>Clothing</td>\n",
       "      <td>20.0</td>\n",
       "      <td>50.0</td>\n",
       "      <td>1000.0</td>\n",
       "    </tr>\n",
       "    <tr>\n",
       "      <th>3</th>\n",
       "      <td>2022-01-03</td>\n",
       "      <td>Headphones</td>\n",
       "      <td>Electronics</td>\n",
       "      <td>100.0</td>\n",
       "      <td>20.0</td>\n",
       "      <td>2000.0</td>\n",
       "    </tr>\n",
       "    <tr>\n",
       "      <th>4</th>\n",
       "      <td>2022-01-04</td>\n",
       "      <td>T-Shirt</td>\n",
       "      <td>Clothing</td>\n",
       "      <td>20.0</td>\n",
       "      <td>25.0</td>\n",
       "      <td>500.0</td>\n",
       "    </tr>\n",
       "  </tbody>\n",
       "</table>\n",
       "</div>"
      ],
      "text/plain": [
       "         date     product     category   price  quantity  revenue\n",
       "0  2022-01-01  Smartphone  Electronics   600.0      10.0   6000.0\n",
       "1  2022-01-01      Laptop  Electronics  1200.0       5.0   6000.0\n",
       "2  2022-01-02     T-Shirt     Clothing    20.0      50.0   1000.0\n",
       "3  2022-01-03  Headphones  Electronics   100.0      20.0   2000.0\n",
       "4  2022-01-04     T-Shirt     Clothing    20.0      25.0    500.0"
      ]
     },
     "execution_count": 3,
     "metadata": {},
     "output_type": "execute_result"
    }
   ],
   "source": [
    "df.head()"
   ]
  },
  {
   "cell_type": "code",
   "execution_count": 4,
   "id": "d348c53b",
   "metadata": {},
   "outputs": [
    {
     "name": "stdout",
     "output_type": "stream",
     "text": [
      "<class 'pandas.core.frame.DataFrame'>\n",
      "RangeIndex: 369 entries, 0 to 368\n",
      "Data columns (total 6 columns):\n",
      " #   Column    Non-Null Count  Dtype  \n",
      "---  ------    --------------  -----  \n",
      " 0   date      369 non-null    object \n",
      " 1   product   369 non-null    object \n",
      " 2   category  369 non-null    object \n",
      " 3   price     367 non-null    float64\n",
      " 4   quantity  368 non-null    float64\n",
      " 5   revenue   368 non-null    float64\n",
      "dtypes: float64(3), object(3)\n",
      "memory usage: 17.4+ KB\n"
     ]
    }
   ],
   "source": [
    "df.info()"
   ]
  },
  {
   "cell_type": "code",
   "execution_count": 5,
   "id": "0dd4e653",
   "metadata": {
    "scrolled": true
   },
   "outputs": [
    {
     "data": {
      "text/html": [
       "<div>\n",
       "<style scoped>\n",
       "    .dataframe tbody tr th:only-of-type {\n",
       "        vertical-align: middle;\n",
       "    }\n",
       "\n",
       "    .dataframe tbody tr th {\n",
       "        vertical-align: top;\n",
       "    }\n",
       "\n",
       "    .dataframe thead th {\n",
       "        text-align: right;\n",
       "    }\n",
       "</style>\n",
       "<table border=\"1\" class=\"dataframe\">\n",
       "  <thead>\n",
       "    <tr style=\"text-align: right;\">\n",
       "      <th></th>\n",
       "      <th>price</th>\n",
       "      <th>quantity</th>\n",
       "      <th>revenue</th>\n",
       "    </tr>\n",
       "  </thead>\n",
       "  <tbody>\n",
       "    <tr>\n",
       "      <th>count</th>\n",
       "      <td>367.000000</td>\n",
       "      <td>368.000000</td>\n",
       "      <td>368.000000</td>\n",
       "    </tr>\n",
       "    <tr>\n",
       "      <th>mean</th>\n",
       "      <td>211.226158</td>\n",
       "      <td>14.565217</td>\n",
       "      <td>2060.679348</td>\n",
       "    </tr>\n",
       "    <tr>\n",
       "      <th>std</th>\n",
       "      <td>227.335170</td>\n",
       "      <td>8.595740</td>\n",
       "      <td>1910.930790</td>\n",
       "    </tr>\n",
       "    <tr>\n",
       "      <th>min</th>\n",
       "      <td>20.000000</td>\n",
       "      <td>3.000000</td>\n",
       "      <td>300.000000</td>\n",
       "    </tr>\n",
       "    <tr>\n",
       "      <th>25%</th>\n",
       "      <td>50.000000</td>\n",
       "      <td>8.000000</td>\n",
       "      <td>800.000000</td>\n",
       "    </tr>\n",
       "    <tr>\n",
       "      <th>50%</th>\n",
       "      <td>100.000000</td>\n",
       "      <td>12.000000</td>\n",
       "      <td>1200.000000</td>\n",
       "    </tr>\n",
       "    <tr>\n",
       "      <th>75%</th>\n",
       "      <td>300.000000</td>\n",
       "      <td>20.000000</td>\n",
       "      <td>2400.000000</td>\n",
       "    </tr>\n",
       "    <tr>\n",
       "      <th>max</th>\n",
       "      <td>1200.000000</td>\n",
       "      <td>50.000000</td>\n",
       "      <td>7200.000000</td>\n",
       "    </tr>\n",
       "  </tbody>\n",
       "</table>\n",
       "</div>"
      ],
      "text/plain": [
       "             price    quantity      revenue\n",
       "count   367.000000  368.000000   368.000000\n",
       "mean    211.226158   14.565217  2060.679348\n",
       "std     227.335170    8.595740  1910.930790\n",
       "min      20.000000    3.000000   300.000000\n",
       "25%      50.000000    8.000000   800.000000\n",
       "50%     100.000000   12.000000  1200.000000\n",
       "75%     300.000000   20.000000  2400.000000\n",
       "max    1200.000000   50.000000  7200.000000"
      ]
     },
     "execution_count": 5,
     "metadata": {},
     "output_type": "execute_result"
    }
   ],
   "source": [
    "df.describe()"
   ]
  },
  {
   "cell_type": "markdown",
   "id": "47a45742",
   "metadata": {},
   "source": [
    "\n",
    "\n",
    "<h1>Data Cleaning</h1>"
   ]
  },
  {
   "cell_type": "markdown",
   "id": "1c33eb8f",
   "metadata": {},
   "source": [
    "## WIll fix the data type for date column and solve null issue"
   ]
  },
  {
   "cell_type": "code",
   "execution_count": 8,
   "id": "e59afe89",
   "metadata": {},
   "outputs": [],
   "source": [
    "# Change data types\n",
    "df['date'] = df['date'].astype('datetime64')"
   ]
  },
  {
   "cell_type": "code",
   "execution_count": 9,
   "id": "06c99039",
   "metadata": {},
   "outputs": [],
   "source": [
    "# Fill in missing values\n",
    "df['date'].fillna(pd.to_datetime('2023-08-01'), inplace=True)\n",
    "df['price'].fillna(0, inplace=True)\n",
    "df['quantity'].fillna(0, inplace=True)\n",
    "df['revenue'].fillna(0, inplace=True)\n"
   ]
  },
  {
   "cell_type": "markdown",
   "id": "b766ed92",
   "metadata": {},
   "source": [
    "#### Another check before We start our analysis"
   ]
  },
  {
   "cell_type": "code",
   "execution_count": 10,
   "id": "cc345336",
   "metadata": {},
   "outputs": [
    {
     "name": "stdout",
     "output_type": "stream",
     "text": [
      "<class 'pandas.core.frame.DataFrame'>\n",
      "RangeIndex: 369 entries, 0 to 368\n",
      "Data columns (total 6 columns):\n",
      " #   Column    Non-Null Count  Dtype         \n",
      "---  ------    --------------  -----         \n",
      " 0   date      369 non-null    datetime64[ns]\n",
      " 1   product   369 non-null    object        \n",
      " 2   category  369 non-null    object        \n",
      " 3   price     369 non-null    float64       \n",
      " 4   quantity  369 non-null    float64       \n",
      " 5   revenue   369 non-null    float64       \n",
      "dtypes: datetime64[ns](1), float64(3), object(2)\n",
      "memory usage: 17.4+ KB\n"
     ]
    }
   ],
   "source": [
    "df.info()"
   ]
  },
  {
   "cell_type": "code",
   "execution_count": 11,
   "id": "df531856",
   "metadata": {},
   "outputs": [
    {
     "data": {
      "text/html": [
       "<div>\n",
       "<style scoped>\n",
       "    .dataframe tbody tr th:only-of-type {\n",
       "        vertical-align: middle;\n",
       "    }\n",
       "\n",
       "    .dataframe tbody tr th {\n",
       "        vertical-align: top;\n",
       "    }\n",
       "\n",
       "    .dataframe thead th {\n",
       "        text-align: right;\n",
       "    }\n",
       "</style>\n",
       "<table border=\"1\" class=\"dataframe\">\n",
       "  <thead>\n",
       "    <tr style=\"text-align: right;\">\n",
       "      <th></th>\n",
       "      <th>date</th>\n",
       "      <th>product</th>\n",
       "      <th>category</th>\n",
       "      <th>price</th>\n",
       "      <th>quantity</th>\n",
       "      <th>revenue</th>\n",
       "    </tr>\n",
       "  </thead>\n",
       "  <tbody>\n",
       "    <tr>\n",
       "      <th>0</th>\n",
       "      <td>2022-01-01</td>\n",
       "      <td>Smartphone</td>\n",
       "      <td>Electronics</td>\n",
       "      <td>600.0</td>\n",
       "      <td>10.0</td>\n",
       "      <td>6000.0</td>\n",
       "    </tr>\n",
       "    <tr>\n",
       "      <th>1</th>\n",
       "      <td>2022-01-01</td>\n",
       "      <td>Laptop</td>\n",
       "      <td>Electronics</td>\n",
       "      <td>1200.0</td>\n",
       "      <td>5.0</td>\n",
       "      <td>6000.0</td>\n",
       "    </tr>\n",
       "    <tr>\n",
       "      <th>2</th>\n",
       "      <td>2022-01-02</td>\n",
       "      <td>T-Shirt</td>\n",
       "      <td>Clothing</td>\n",
       "      <td>20.0</td>\n",
       "      <td>50.0</td>\n",
       "      <td>1000.0</td>\n",
       "    </tr>\n",
       "    <tr>\n",
       "      <th>3</th>\n",
       "      <td>2022-01-03</td>\n",
       "      <td>Headphones</td>\n",
       "      <td>Electronics</td>\n",
       "      <td>100.0</td>\n",
       "      <td>20.0</td>\n",
       "      <td>2000.0</td>\n",
       "    </tr>\n",
       "    <tr>\n",
       "      <th>4</th>\n",
       "      <td>2022-01-04</td>\n",
       "      <td>T-Shirt</td>\n",
       "      <td>Clothing</td>\n",
       "      <td>20.0</td>\n",
       "      <td>25.0</td>\n",
       "      <td>500.0</td>\n",
       "    </tr>\n",
       "  </tbody>\n",
       "</table>\n",
       "</div>"
      ],
      "text/plain": [
       "        date     product     category   price  quantity  revenue\n",
       "0 2022-01-01  Smartphone  Electronics   600.0      10.0   6000.0\n",
       "1 2022-01-01      Laptop  Electronics  1200.0       5.0   6000.0\n",
       "2 2022-01-02     T-Shirt     Clothing    20.0      50.0   1000.0\n",
       "3 2022-01-03  Headphones  Electronics   100.0      20.0   2000.0\n",
       "4 2022-01-04     T-Shirt     Clothing    20.0      25.0    500.0"
      ]
     },
     "execution_count": 11,
     "metadata": {},
     "output_type": "execute_result"
    }
   ],
   "source": [
    "df.head()"
   ]
  },
  {
   "cell_type": "markdown",
   "id": "195209a7",
   "metadata": {},
   "source": [
    "# **Assessment Questions**"
   ]
  },
  {
   "cell_type": "markdown",
   "id": "13a5f488",
   "metadata": {},
   "source": [
    "\n",
    "<ol>\n",
    "  <li><b>What was the total revenue generated by the company over the course of the year?</b></li>\n",
    "  <li><b>Which product had the highest revenue? How much revenue did it generate?</b></li>\n",
    "  <li><b>What was the average price of a product sold by the company?</b></li>\n",
    "  <li><b>What was the total quantity of products sold by the company?</b></li>\n",
    "  <li><b>Which category had the highest revenue? How much revenue did it generate?</b></li>\n",
    "  <li><b>What was the average revenue per sale?</b></li>\n",
    "  <li><b>What was the total revenue generated in each quarter of the year? (i.e. Q1, Q2, Q3, Q4)</b></li>\n",
    "</ol>\n"
   ]
  },
  {
   "cell_type": "markdown",
   "id": "4a888d22",
   "metadata": {},
   "source": [
    "<h2>1-What was the total revenue generated by the company over the course of the year?</h2>"
   ]
  },
  {
   "cell_type": "code",
   "execution_count": 85,
   "id": "1cf8afc7",
   "metadata": {},
   "outputs": [
    {
     "data": {
      "text/plain": [
       "758330.0"
      ]
     },
     "execution_count": 85,
     "metadata": {},
     "output_type": "execute_result"
    }
   ],
   "source": [
    "total_revenue = df[\"revenue\"].sum()\n",
    "total_revenue\n",
    "\n"
   ]
  },
  {
   "cell_type": "markdown",
   "id": "84a7a594",
   "metadata": {},
   "source": [
    "<h2>2- Which product had the highest revenue? How much revenue did it generate?</h2>"
   ]
  },
  {
   "cell_type": "code",
   "execution_count": 94,
   "id": "4115b731",
   "metadata": {},
   "outputs": [
    {
     "name": "stdout",
     "output_type": "stream",
     "text": [
      "The higest revenue product is:  Smartphone, with Revenue of: 434400.0$\n"
     ]
    }
   ],
   "source": [
    "max_revenue_product = df.groupby(\"product\")[\"revenue\"].max().sort_values(ascending=False).index[0]\n",
    "max_revenue = df[df[\"product\"] == max_revenue_product][\"revenue\"].sum()\n",
    "\n",
    "print(\"The higest revenue product is:  \" + max_revenue_product+\", with Revenue of: \"+ str(max_revenue)+ \"$\")"
   ]
  },
  {
   "cell_type": "markdown",
   "id": "b53df479",
   "metadata": {},
   "source": [
    "<h2>3- What was the average price of a product sold by the company?</h2>"
   ]
  },
  {
   "cell_type": "code",
   "execution_count": 139,
   "id": "055b6489",
   "metadata": {},
   "outputs": [
    {
     "data": {
      "text/html": [
       "<div>\n",
       "<style scoped>\n",
       "    .dataframe tbody tr th:only-of-type {\n",
       "        vertical-align: middle;\n",
       "    }\n",
       "\n",
       "    .dataframe tbody tr th {\n",
       "        vertical-align: top;\n",
       "    }\n",
       "\n",
       "    .dataframe thead th {\n",
       "        text-align: right;\n",
       "    }\n",
       "</style>\n",
       "<table border=\"1\" class=\"dataframe\">\n",
       "  <thead>\n",
       "    <tr style=\"text-align: right;\">\n",
       "      <th></th>\n",
       "      <th>product</th>\n",
       "      <th>average_pricez</th>\n",
       "    </tr>\n",
       "  </thead>\n",
       "  <tbody>\n",
       "    <tr>\n",
       "      <th>0</th>\n",
       "      <td>Laptop</td>\n",
       "      <td>1200.0</td>\n",
       "    </tr>\n",
       "    <tr>\n",
       "      <th>1</th>\n",
       "      <td>Smartphone</td>\n",
       "      <td>600.0</td>\n",
       "    </tr>\n",
       "    <tr>\n",
       "      <th>2</th>\n",
       "      <td>Tablet</td>\n",
       "      <td>400.0</td>\n",
       "    </tr>\n",
       "    <tr>\n",
       "      <th>3</th>\n",
       "      <td>Smartwatch</td>\n",
       "      <td>200.0</td>\n",
       "    </tr>\n",
       "    <tr>\n",
       "      <th>4</th>\n",
       "      <td>Watch</td>\n",
       "      <td>143.0</td>\n",
       "    </tr>\n",
       "    <tr>\n",
       "      <th>5</th>\n",
       "      <td>Coat</td>\n",
       "      <td>100.0</td>\n",
       "    </tr>\n",
       "    <tr>\n",
       "      <th>6</th>\n",
       "      <td>Headphones</td>\n",
       "      <td>100.0</td>\n",
       "    </tr>\n",
       "    <tr>\n",
       "      <th>7</th>\n",
       "      <td>Sneakers</td>\n",
       "      <td>80.0</td>\n",
       "    </tr>\n",
       "    <tr>\n",
       "      <th>8</th>\n",
       "      <td>Speaker</td>\n",
       "      <td>80.0</td>\n",
       "    </tr>\n",
       "    <tr>\n",
       "      <th>9</th>\n",
       "      <td>Backpack</td>\n",
       "      <td>50.0</td>\n",
       "    </tr>\n",
       "    <tr>\n",
       "      <th>10</th>\n",
       "      <td>Jeans</td>\n",
       "      <td>50.0</td>\n",
       "    </tr>\n",
       "    <tr>\n",
       "      <th>11</th>\n",
       "      <td>Hoodie</td>\n",
       "      <td>40.0</td>\n",
       "    </tr>\n",
       "    <tr>\n",
       "      <th>12</th>\n",
       "      <td>Wallet</td>\n",
       "      <td>28.0</td>\n",
       "    </tr>\n",
       "    <tr>\n",
       "      <th>13</th>\n",
       "      <td>T-Shirt</td>\n",
       "      <td>20.0</td>\n",
       "    </tr>\n",
       "  </tbody>\n",
       "</table>\n",
       "</div>"
      ],
      "text/plain": [
       "       product  average_pricez\n",
       "0       Laptop          1200.0\n",
       "1   Smartphone           600.0\n",
       "2       Tablet           400.0\n",
       "3   Smartwatch           200.0\n",
       "4        Watch           143.0\n",
       "5         Coat           100.0\n",
       "6   Headphones           100.0\n",
       "7     Sneakers            80.0\n",
       "8      Speaker            80.0\n",
       "9     Backpack            50.0\n",
       "10       Jeans            50.0\n",
       "11      Hoodie            40.0\n",
       "12      Wallet            28.0\n",
       "13     T-Shirt            20.0"
      ]
     },
     "execution_count": 139,
     "metadata": {},
     "output_type": "execute_result"
    }
   ],
   "source": [
    "average_prices_per_product = df.groupby('product').agg(average_pricez=('price', np.mean)).sort_values(by='average_pricez', ascending=False).reset_index()\n",
    "round(average_prices_per_product)\n"
   ]
  },
  {
   "cell_type": "code",
   "execution_count": 126,
   "id": "63a70dfc",
   "metadata": {},
   "outputs": [
    {
     "data": {
      "image/png": "[encoded data removed]",
      "text/plain": [
       "<Figure size 1080x720 with 1 Axes>"
      ]
     },
     "metadata": {
      "needs_background": "light"
     },
     "output_type": "display_data"
    }
   ],
   "source": [
    "product_names = average_prices_per_product['product'].to_numpy()\n",
    "average_prices = average_prices_per_product['average_pricez'].to_numpy()\n",
    "\n",
    "plt.figure(figsize=(15, 10))\n",
    "plt.bar(product_names, average_prices)\n",
    "plt.xlabel(\"Product Name\")\n",
    "plt.ylabel(\"Average Price\")\n",
    "plt.title(\"Average Price per Product\")\n",
    "plt.show()"
   ]
  },
  {
   "cell_type": "markdown",
   "id": "62aa4ee1",
   "metadata": {},
   "source": [
    "<h2>4- What was the total quantity of products sold by the company?</h2>"
   ]
  },
  {
   "cell_type": "code",
   "execution_count": 123,
   "id": "2c7fd52f",
   "metadata": {},
   "outputs": [
    {
     "name": "stdout",
     "output_type": "stream",
     "text": [
      "total_quantity:  5360.0\n"
     ]
    }
   ],
   "source": [
    "# Total quantity of products sold by the company\n",
    "total_quantity = df[\"quantity\"].sum()\n",
    "print(\"total_quantity:  \" + str(total_quantity))"
   ]
  },
  {
   "cell_type": "markdown",
   "id": "7b076d6b",
   "metadata": {},
   "source": [
    "<h2>5-  Which category had the highest revenue? How much revenue did it generate?</h2>"
   ]
  },
  {
   "cell_type": "code",
   "execution_count": 131,
   "id": "e03eed5b",
   "metadata": {},
   "outputs": [
    {
     "name": "stdout",
     "output_type": "stream",
     "text": [
      "Electronics   516080.0\n"
     ]
    }
   ],
   "source": [
    "# Category with the highest revenue\n",
    "max_revenue_category = df.groupby(\"category\")[\"revenue\"].max().sort_values(ascending=False).index[0]\n",
    "max_revenue_category_revenue = df[df[\"category\"] == max_revenue_category][\"revenue\"].sum()\n",
    "print(max_revenue_category +\"   \" +str(max_revenue_category_revenue))\n"
   ]
  },
  {
   "cell_type": "markdown",
   "id": "4788f2c2",
   "metadata": {},
   "source": [
    "<h2>6-  What was the average revenue per sale?\n"
   ]
  },
  {
   "cell_type": "code",
   "execution_count": 143,
   "id": "02104b7e",
   "metadata": {},
   "outputs": [
    {
     "data": {
      "text/plain": [
       "2055.095"
      ]
     },
     "execution_count": 143,
     "metadata": {},
     "output_type": "execute_result"
    }
   ],
   "source": [
    "average_revenue_per_sale = df[\"revenue\"].mean()\n",
    "round(average_revenue_per_sale,3)"
   ]
  },
  {
   "cell_type": "markdown",
   "id": "9591af38",
   "metadata": {},
   "source": [
    "<h2>7- What was the total revenue generated in each quarter of the year? (i.e. Q1, Q2, Q3, Q4)"
   ]
  },
  {
   "cell_type": "code",
   "execution_count": 153,
   "id": "c66a7115",
   "metadata": {
    "scrolled": false
   },
   "outputs": [
    {
     "name": "stdout",
     "output_type": "stream",
     "text": [
      "Total revenue generated in each quarter of the year:\n",
      "Q1 : 182100.0\n",
      "Q2 : 183970.0\n",
      "Q3 : 197680.0\n",
      "Q4 : 194580.0\n"
     ]
    }
   ],
   "source": [
    "\n",
    "\n",
    "df[\"quarter\"] = pd.to_datetime(df[\"date\"]).dt.quarter\n",
    "\n",
    "quarterly_revenue = df.groupby(\"quarter\")[\"revenue\"].sum()\n",
    "\n",
    "quarter_names = [\"Q1\", \"Q2\", \"Q3\", \"Q4\"]\n",
    "\n",
    "quarterly_revenue_by_name = {}\n",
    "for quarter, revenue in quarterly_revenue.items():\n",
    "  quarter_name = quarter_names[quarter - 1]\n",
    "  quarterly_revenue_by_name[quarter_name] = revenue\n",
    "\n",
    "print(\"Total revenue generated in each quarter of the year:\")\n",
    "for quarter, revenue in quarterly_revenue_by_name.items():\n",
    "  print(quarter, \":\", revenue)\n"
   ]
  },
  {
   "cell_type": "code",
   "execution_count": 159,
   "id": "24f31074",
   "metadata": {},
   "outputs": [
    {
     "data": {
      "image/png": "[encoded data removed]",
      "text/plain": [
       "<Figure size 576x432 with 1 Axes>"
      ]
     },
     "metadata": {},
     "output_type": "display_data"
    }
   ],
   "source": [
    "plt.figure(figsize=(8, 6))\n",
    "\n",
    "plt.pie(\n",
    "    quarterly_revenue_by_name.values(),\n",
    "    labels=quarterly_revenue_by_name.keys(),\n",
    "    autopct=\"%1.1f%%\",\n",
    ")\n",
    "plt.title(\"Pie Chart of Total Revenue Generated in Each Quarter\")\n",
    "plt.show()\n"
   ]
  },
  {
   "cell_type": "markdown",
   "id": "d3f4fc8e",
   "metadata": {},
   "source": [
    "### Thanks for viewing My report I hope you injoyed it and found it insightfull\n",
    "\n",
    "### By: Mohamed A. Hassan © 2023 \n",
    "###  mohamadhassan2050@yahoo.com | (+20) 01140313695 | (+20) 01062112940 | https://www.linkedin.com/in/mohamadahassan1 | https://github.com/mohamadahassan1"
   ]
  },
  {
   "cell_type": "code",
   "execution_count": null,
   "id": "5611b177",
   "metadata": {},
   "outputs": [],
   "source": []
  }
 ],
 "metadata": {
  "kernelspec": {
   "display_name": "Python 3 (ipykernel)",
   "language": "python",
   "name": "python3"
  },
  "language_info": {
   "codemirror_mode": {
    "name": "ipython",
    "version": 3
   },
   "file_extension": ".py",
   "mimetype": "text/x-python",
   "name": "python",
   "nbconvert_exporter": "python",
   "pygments_lexer": "ipython3",
   "version": "3.9.13"
  }
 },
 "nbformat": 4,
 "nbformat_minor": 5
}
